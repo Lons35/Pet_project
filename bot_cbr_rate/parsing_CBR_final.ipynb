{
 "cells": [
  {
   "cell_type": "markdown",
   "id": "ef926027",
   "metadata": {},
   "source": [
    "## Импорт библиотек"
   ]
  },
  {
   "cell_type": "code",
   "execution_count": 1,
   "id": "9fb8dee3",
   "metadata": {},
   "outputs": [],
   "source": [
    "# импорт библиотек\n",
    "import requests\n",
    "import re\n",
    "from bs4 import BeautifulSoup\n",
    "import pandas as pd\n",
    "from datetime import datetime\n",
    "\n",
    "import psycopg2\n",
    "from yaml import load, FullLoader\n",
    "from psycopg2.extensions import ISOLATION_LEVEL_AUTOCOMMIT\n",
    "from sqlalchemy import create_engine\n"
   ]
  },
  {
   "cell_type": "markdown",
   "id": "cb105b2e",
   "metadata": {},
   "source": [
    "## Парсинг"
   ]
  },
  {
   "cell_type": "code",
   "execution_count": 2,
   "id": "4e905e86",
   "metadata": {},
   "outputs": [
    {
     "name": "stdout",
     "output_type": "stream",
     "text": [
      "['Цифр. код', 'Букв. код', 'Единиц', 'Валюта', 'Курс']\n"
     ]
    }
   ],
   "source": [
    "# ссылка\n",
    "URL = 'https://www.cbr.ru/currency_base/daily/'  \n",
    "\n",
    "# User-Agent\n",
    "headers = {\n",
    "    \"Accept\": \"*/*\",\n",
    "    \"User-Agent\": \"Mozilla/5.0 (Windows NT 10.0; Win64; x64) AppleWebKit/537.36 (KHTML, like Gecko) Chrome/107.0.0.0 Safari/537.36\"\n",
    "}\n",
    "\n",
    "# сохраняем объект Response в переменную req\n",
    "req = requests.get(URL, headers=headers)  \n",
    "\n",
    "# текстовое содержание запроса\n",
    "req_text = req.text  \n",
    "\n",
    "# парсинг\n",
    "soup = BeautifulSoup(req_text, 'lxml')  \n",
    "\n",
    "table = soup.find('table')  # таблица\n",
    "\n",
    "heading_table = []  # список, в котором будут храниться названия столбцов\n",
    "\n",
    "# цикл для поиска нащвания столбцов и добавление в список\n",
    "for row in table.find_all('th'):\n",
    "    heading_table.append(row.text)\n",
    "print(heading_table)\n",
    "\n"
   ]
  },
  {
   "cell_type": "code",
   "execution_count": 3,
   "id": "811a0e2b",
   "metadata": {},
   "outputs": [],
   "source": [
    "content=[] # список, в котором будут храниться данные из таблицы\n",
    "\n",
    "# цикл для добавление информации построкам\n",
    "for row in table.find_all('tr'): \n",
    "    if not row.find_all('th'): # пропустить первую строку таблицы с заголовками\n",
    "            content.append([element.text for element in row.find_all('td')])"
   ]
  },
  {
   "cell_type": "code",
   "execution_count": 4,
   "id": "598d9453",
   "metadata": {},
   "outputs": [
    {
     "data": {
      "text/html": [
       "<div>\n",
       "<style scoped>\n",
       "    .dataframe tbody tr th:only-of-type {\n",
       "        vertical-align: middle;\n",
       "    }\n",
       "\n",
       "    .dataframe tbody tr th {\n",
       "        vertical-align: top;\n",
       "    }\n",
       "\n",
       "    .dataframe thead th {\n",
       "        text-align: right;\n",
       "    }\n",
       "</style>\n",
       "<table border=\"1\" class=\"dataframe\">\n",
       "  <thead>\n",
       "    <tr style=\"text-align: right;\">\n",
       "      <th></th>\n",
       "      <th>id</th>\n",
       "      <th>literal_id</th>\n",
       "      <th>unit</th>\n",
       "      <th>curr_name</th>\n",
       "      <th>curr_rate</th>\n",
       "      <th>date</th>\n",
       "    </tr>\n",
       "  </thead>\n",
       "  <tbody>\n",
       "    <tr>\n",
       "      <th>0</th>\n",
       "      <td>036</td>\n",
       "      <td>AUD</td>\n",
       "      <td>1</td>\n",
       "      <td>Австралийский доллар</td>\n",
       "      <td>40.9750</td>\n",
       "      <td>2022-11-27</td>\n",
       "    </tr>\n",
       "    <tr>\n",
       "      <th>1</th>\n",
       "      <td>944</td>\n",
       "      <td>AZN</td>\n",
       "      <td>1</td>\n",
       "      <td>Азербайджанский манат</td>\n",
       "      <td>35.5763</td>\n",
       "      <td>2022-11-27</td>\n",
       "    </tr>\n",
       "    <tr>\n",
       "      <th>2</th>\n",
       "      <td>051</td>\n",
       "      <td>AMD</td>\n",
       "      <td>100</td>\n",
       "      <td>Армянских драмов</td>\n",
       "      <td>15.3094</td>\n",
       "      <td>2022-11-27</td>\n",
       "    </tr>\n",
       "    <tr>\n",
       "      <th>3</th>\n",
       "      <td>933</td>\n",
       "      <td>BYN</td>\n",
       "      <td>1</td>\n",
       "      <td>Белорусский рубль</td>\n",
       "      <td>25.0320</td>\n",
       "      <td>2022-11-27</td>\n",
       "    </tr>\n",
       "    <tr>\n",
       "      <th>4</th>\n",
       "      <td>975</td>\n",
       "      <td>BGN</td>\n",
       "      <td>1</td>\n",
       "      <td>Болгарский лев</td>\n",
       "      <td>32.1992</td>\n",
       "      <td>2022-11-27</td>\n",
       "    </tr>\n",
       "  </tbody>\n",
       "</table>\n",
       "</div>"
      ],
      "text/plain": [
       "    id literal_id unit              curr_name curr_rate        date\n",
       "0  036        AUD    1   Австралийский доллар   40.9750  2022-11-27\n",
       "1  944        AZN    1  Азербайджанский манат   35.5763  2022-11-27\n",
       "2  051        AMD  100       Армянских драмов   15.3094  2022-11-27\n",
       "3  933        BYN    1      Белорусский рубль   25.0320  2022-11-27\n",
       "4  975        BGN    1         Болгарский лев   32.1992  2022-11-27"
      ]
     },
     "metadata": {},
     "output_type": "display_data"
    }
   ],
   "source": [
    "# создание DataFrame\n",
    "rate = pd.DataFrame(content, columns=heading_table) \n",
    "rate['date'] = datetime.now().date() # создание столбца с текущей датой\n",
    "\n",
    "# переименование столбцов\n",
    "rate.columns = ['id', 'literal_id', 'unit', 'curr_name', 'curr_rate', 'date']\n",
    "\n",
    "# замена запятой на точку\n",
    "rate['curr_rate'] = rate['curr_rate'].str.replace(',', '.') \n",
    "\n",
    "display(rate.head()) "
   ]
  },
  {
   "cell_type": "markdown",
   "id": "2b0605b3",
   "metadata": {},
   "source": [
    "## Создание базы и таблицы в PostgreSQL"
   ]
  },
  {
   "cell_type": "markdown",
   "id": "f5be3e5e",
   "metadata": {},
   "source": [
    "**Создание базы**"
   ]
  },
  {
   "cell_type": "code",
   "execution_count": 5,
   "id": "b5ec7037",
   "metadata": {},
   "outputs": [],
   "source": [
    "# # импорт параметров для подключения к базе\n",
    "# with open('config_postgresql.yaml') as f:\n",
    "#     config = load(f, Loader=FullLoader)\n",
    "\n",
    "# # подключение к базе\n",
    "# connection = psycopg2.connect(\n",
    "#             host=config['host'],\n",
    "#             database='',\n",
    "#             user=config['user'],\n",
    "#             password=config['password'],\n",
    "#             port = config['port']\n",
    "#         )\n",
    "# connection.set_isolation_level(ISOLATION_LEVEL_AUTOCOMMIT)\n",
    "\n",
    "# # курсор для выполнения операций с базой данных\n",
    "# cursor = connection.cursor()\n",
    "\n",
    "# # создание базы данных\n",
    "# cursor.execute('CREATE DATABASE cbr_rate;')\n",
    "# connection.commit()\n",
    "\n",
    "# # закрытие сессии\n",
    "# connection.close()"
   ]
  },
  {
   "cell_type": "markdown",
   "id": "f5e0540a",
   "metadata": {},
   "source": [
    "**Создание таблицы**"
   ]
  },
  {
   "cell_type": "code",
   "execution_count": 6,
   "id": "ac18d1f3",
   "metadata": {},
   "outputs": [],
   "source": [
    "# # подключение к базе\n",
    "# connection = psycopg2.connect(\n",
    "#             host=config['host'],\n",
    "#             database='cbr_rate',\n",
    "#             user=config['user'],\n",
    "#             password=config['password'],\n",
    "#             port = config['port']\n",
    "#         )\n",
    "# connection.set_isolation_level(ISOLATION_LEVEL_AUTOCOMMIT)\n",
    "\n",
    "# def sql_query(query, connection):\n",
    "#     \"\"\"Отправка SQL-запроса query\"\"\"\n",
    "#     cursor = connection.cursor()\n",
    "#     cursor.execute(query)\n",
    "#     connection.commit()\n",
    "\n",
    "# # создание таблицы\n",
    "# create_table = \"\"\"\n",
    "# CREATE TABLE cbr_rate_table (\n",
    "#     id           integer,\n",
    "#     literal_id   text,\n",
    "#     unit         integer,\n",
    "#     curr_name    text,\n",
    "#     curr_rate    float4,\n",
    "#     date         date    \n",
    "# )\n",
    "# \"\"\"\n",
    "\n",
    "# sql_query(create_table, connection=connection)\n",
    "\n",
    "# # закрытие сессии\n",
    "# connection.close()"
   ]
  },
  {
   "cell_type": "markdown",
   "id": "39946a9b",
   "metadata": {},
   "source": [
    "## Заливка данных в таблицу"
   ]
  },
  {
   "cell_type": "code",
   "execution_count": 7,
   "id": "88ca43b8",
   "metadata": {},
   "outputs": [],
   "source": [
    "# импорт параметров для подключения к базе\n",
    "with open('config_postgresql.yaml') as f:\n",
    "    config = load(f, Loader=FullLoader)\n",
    "    \n",
    "# подключение к базе данных\n",
    "engine = create_engine(f\"postgresql+psycopg2://{config['query_bd']}\")\n",
    "\n",
    "# заливка данных\n",
    "rate.to_sql('cbr_rate_table', engine, if_exists='append', index=False)\n",
    "\n",
    "# закрытие сессии\n",
    "connection.close()"
   ]
  }
 ],
 "metadata": {
  "finalized": {
   "timestamp": 1668946313922,
   "trusted": false
  },
  "kernelspec": {
   "display_name": "Python 3 (ipykernel)",
   "language": "python",
   "name": "python3"
  },
  "language_info": {
   "codemirror_mode": {
    "name": "ipython",
    "version": 3
   },
   "file_extension": ".py",
   "mimetype": "text/x-python",
   "name": "python",
   "nbconvert_exporter": "python",
   "pygments_lexer": "ipython3",
   "version": "3.9.13"
  },
  "toc": {
   "base_numbering": 1,
   "nav_menu": {},
   "number_sections": true,
   "sideBar": true,
   "skip_h1_title": false,
   "title_cell": "Table of Contents",
   "title_sidebar": "Contents",
   "toc_cell": false,
   "toc_position": {},
   "toc_section_display": true,
   "toc_window_display": false
  }
 },
 "nbformat": 4,
 "nbformat_minor": 5
}
